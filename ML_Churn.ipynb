{
 "cells": [
  {
   "cell_type": "markdown",
   "id": "certified-steal",
   "metadata": {},
   "source": [
    "# 0. Import Libraries "
   ]
  },
  {
   "cell_type": "code",
   "execution_count": 1,
   "id": "dental-florence",
   "metadata": {},
   "outputs": [],
   "source": [
    "import numpy as np \n",
    "import pandas as pd \n",
    "import seaborn as sns\n",
    "import statsmodels as sn\n",
    "import matplotlib.pyplot as plt\n",
    "sns.set()"
   ]
  },
  {
   "cell_type": "markdown",
   "id": "vulnerable-diploma",
   "metadata": {},
   "source": [
    "We most likely will require more libaries or dependencies later on but we will add them as we go along"
   ]
  },
  {
   "cell_type": "markdown",
   "id": "stainless-arabic",
   "metadata": {},
   "source": [
    "# 1. Import Data"
   ]
  },
  {
   "cell_type": "code",
   "execution_count": 2,
   "id": "private-violin",
   "metadata": {},
   "outputs": [],
   "source": [
    "raw_data = pd.read_csv('churn.csv')"
   ]
  },
  {
   "cell_type": "markdown",
   "id": "adjusted-madrid",
   "metadata": {},
   "source": [
    "# 2. Exploratory Data Analysis"
   ]
  },
  {
   "cell_type": "markdown",
   "id": "molecular-trial",
   "metadata": {},
   "source": [
    "In this first section we go through the train and store data, handle missing values and create new features for further analysis."
   ]
  },
  {
   "cell_type": "code",
   "execution_count": 3,
   "id": "stretch-emphasis",
   "metadata": {
    "scrolled": true
   },
   "outputs": [
    {
     "data": {
      "text/html": [
       "<div>\n",
       "<style scoped>\n",
       "    .dataframe tbody tr th:only-of-type {\n",
       "        vertical-align: middle;\n",
       "    }\n",
       "\n",
       "    .dataframe tbody tr th {\n",
       "        vertical-align: top;\n",
       "    }\n",
       "\n",
       "    .dataframe thead th {\n",
       "        text-align: right;\n",
       "    }\n",
       "</style>\n",
       "<table border=\"1\" class=\"dataframe\">\n",
       "  <thead>\n",
       "    <tr style=\"text-align: right;\">\n",
       "      <th></th>\n",
       "      <th>Customer ID</th>\n",
       "      <th>Gender</th>\n",
       "      <th>Senior Citizen</th>\n",
       "      <th>Partner</th>\n",
       "      <th>Dependents</th>\n",
       "      <th>tenure</th>\n",
       "      <th>Phone Service</th>\n",
       "      <th>Multiple Lines</th>\n",
       "      <th>Internet Service</th>\n",
       "      <th>Online Security</th>\n",
       "      <th>...</th>\n",
       "      <th>Device Protection</th>\n",
       "      <th>Tech Support</th>\n",
       "      <th>Streaming TV</th>\n",
       "      <th>Streaming Movies</th>\n",
       "      <th>Contract</th>\n",
       "      <th>Paperless Billing</th>\n",
       "      <th>Payment Method</th>\n",
       "      <th>Monthly Charges</th>\n",
       "      <th>Total Charges</th>\n",
       "      <th>Churn</th>\n",
       "    </tr>\n",
       "  </thead>\n",
       "  <tbody>\n",
       "    <tr>\n",
       "      <th>0</th>\n",
       "      <td>7590-VHVEA</td>\n",
       "      <td>Female</td>\n",
       "      <td>0</td>\n",
       "      <td>Yes</td>\n",
       "      <td>No</td>\n",
       "      <td>1</td>\n",
       "      <td>No</td>\n",
       "      <td>No phone service</td>\n",
       "      <td>DSL</td>\n",
       "      <td>No</td>\n",
       "      <td>...</td>\n",
       "      <td>No</td>\n",
       "      <td>No</td>\n",
       "      <td>No</td>\n",
       "      <td>No</td>\n",
       "      <td>Month-to-month</td>\n",
       "      <td>Yes</td>\n",
       "      <td>Electronic check</td>\n",
       "      <td>29.85</td>\n",
       "      <td>29.85</td>\n",
       "      <td>No</td>\n",
       "    </tr>\n",
       "    <tr>\n",
       "      <th>1</th>\n",
       "      <td>7590-VHVEG</td>\n",
       "      <td>Female</td>\n",
       "      <td>0</td>\n",
       "      <td>Yes</td>\n",
       "      <td>No</td>\n",
       "      <td>1</td>\n",
       "      <td>No</td>\n",
       "      <td>No phone service</td>\n",
       "      <td>DSL</td>\n",
       "      <td>No</td>\n",
       "      <td>...</td>\n",
       "      <td>No</td>\n",
       "      <td>No</td>\n",
       "      <td>No</td>\n",
       "      <td>No</td>\n",
       "      <td>Month-to-month</td>\n",
       "      <td>Yes</td>\n",
       "      <td>Electronic check</td>\n",
       "      <td>29.85</td>\n",
       "      <td>29.85</td>\n",
       "      <td>No</td>\n",
       "    </tr>\n",
       "    <tr>\n",
       "      <th>2</th>\n",
       "      <td>5575-GNVDE</td>\n",
       "      <td>Male</td>\n",
       "      <td>0</td>\n",
       "      <td>No</td>\n",
       "      <td>No</td>\n",
       "      <td>34</td>\n",
       "      <td>Yes</td>\n",
       "      <td>No</td>\n",
       "      <td>DSL</td>\n",
       "      <td>Yes</td>\n",
       "      <td>...</td>\n",
       "      <td>Yes</td>\n",
       "      <td>No</td>\n",
       "      <td>No</td>\n",
       "      <td>No</td>\n",
       "      <td>One year</td>\n",
       "      <td>No</td>\n",
       "      <td>Mailed check</td>\n",
       "      <td>56.95</td>\n",
       "      <td>1889.5</td>\n",
       "      <td>No</td>\n",
       "    </tr>\n",
       "    <tr>\n",
       "      <th>3</th>\n",
       "      <td>3668-QPYBK</td>\n",
       "      <td>Male</td>\n",
       "      <td>0</td>\n",
       "      <td>No</td>\n",
       "      <td>No</td>\n",
       "      <td>2</td>\n",
       "      <td>Yes</td>\n",
       "      <td>No</td>\n",
       "      <td>DSL</td>\n",
       "      <td>Yes</td>\n",
       "      <td>...</td>\n",
       "      <td>No</td>\n",
       "      <td>No</td>\n",
       "      <td>No</td>\n",
       "      <td>No</td>\n",
       "      <td>Month-to-month</td>\n",
       "      <td>Yes</td>\n",
       "      <td>Mailed check</td>\n",
       "      <td>53.85</td>\n",
       "      <td>108.15</td>\n",
       "      <td>Yes</td>\n",
       "    </tr>\n",
       "    <tr>\n",
       "      <th>4</th>\n",
       "      <td>7795-CFOCW</td>\n",
       "      <td>Male</td>\n",
       "      <td>0</td>\n",
       "      <td>No</td>\n",
       "      <td>No</td>\n",
       "      <td>45</td>\n",
       "      <td>No</td>\n",
       "      <td>No phone service</td>\n",
       "      <td>DSL</td>\n",
       "      <td>Yes</td>\n",
       "      <td>...</td>\n",
       "      <td>Yes</td>\n",
       "      <td>Yes</td>\n",
       "      <td>No</td>\n",
       "      <td>No</td>\n",
       "      <td>One year</td>\n",
       "      <td>No</td>\n",
       "      <td>Bank transfer (automatic)</td>\n",
       "      <td>42.30</td>\n",
       "      <td>1840.75</td>\n",
       "      <td>No</td>\n",
       "    </tr>\n",
       "  </tbody>\n",
       "</table>\n",
       "<p>5 rows × 21 columns</p>\n",
       "</div>"
      ],
      "text/plain": [
       "  Customer ID  Gender  Senior Citizen Partner Dependents  tenure  \\\n",
       "0  7590-VHVEA  Female               0     Yes         No       1   \n",
       "1  7590-VHVEG  Female               0     Yes         No       1   \n",
       "2  5575-GNVDE    Male               0      No         No      34   \n",
       "3  3668-QPYBK    Male               0      No         No       2   \n",
       "4  7795-CFOCW    Male               0      No         No      45   \n",
       "\n",
       "  Phone Service    Multiple Lines Internet Service Online Security  ...  \\\n",
       "0            No  No phone service              DSL              No  ...   \n",
       "1            No  No phone service              DSL              No  ...   \n",
       "2           Yes                No              DSL             Yes  ...   \n",
       "3           Yes                No              DSL             Yes  ...   \n",
       "4            No  No phone service              DSL             Yes  ...   \n",
       "\n",
       "  Device Protection Tech Support Streaming TV Streaming Movies  \\\n",
       "0                No           No           No               No   \n",
       "1                No           No           No               No   \n",
       "2               Yes           No           No               No   \n",
       "3                No           No           No               No   \n",
       "4               Yes          Yes           No               No   \n",
       "\n",
       "         Contract Paperless Billing             Payment Method  \\\n",
       "0  Month-to-month               Yes           Electronic check   \n",
       "1  Month-to-month               Yes           Electronic check   \n",
       "2        One year                No               Mailed check   \n",
       "3  Month-to-month               Yes               Mailed check   \n",
       "4        One year                No  Bank transfer (automatic)   \n",
       "\n",
       "  Monthly Charges  Total Charges Churn  \n",
       "0           29.85          29.85    No  \n",
       "1           29.85          29.85    No  \n",
       "2           56.95         1889.5    No  \n",
       "3           53.85         108.15   Yes  \n",
       "4           42.30        1840.75    No  \n",
       "\n",
       "[5 rows x 21 columns]"
      ]
     },
     "execution_count": 3,
     "metadata": {},
     "output_type": "execute_result"
    }
   ],
   "source": [
    "raw_data.head()"
   ]
  },
  {
   "cell_type": "code",
   "execution_count": 4,
   "id": "solid-recipient",
   "metadata": {
    "scrolled": false
   },
   "outputs": [
    {
     "data": {
      "text/plain": [
       "Index(['Customer ID', 'Gender', 'Senior Citizen', 'Partner', 'Dependents',\n",
       "       'tenure', 'Phone Service', 'Multiple Lines', 'Internet Service',\n",
       "       'Online Security', 'Online Backup', 'Device Protection', 'Tech Support',\n",
       "       'Streaming TV', 'Streaming Movies', 'Contract', 'Paperless Billing',\n",
       "       'Payment Method', 'Monthly Charges', 'Total Charges', 'Churn'],\n",
       "      dtype='object')"
      ]
     },
     "execution_count": 4,
     "metadata": {},
     "output_type": "execute_result"
    }
   ],
   "source": [
    "raw_data.columns"
   ]
  },
  {
   "cell_type": "code",
   "execution_count": 5,
   "id": "prepared-legislature",
   "metadata": {
    "scrolled": true
   },
   "outputs": [
    {
     "name": "stdout",
     "output_type": "stream",
     "text": [
      "<class 'pandas.core.frame.DataFrame'>\n",
      "RangeIndex: 7044 entries, 0 to 7043\n",
      "Data columns (total 21 columns):\n",
      " #   Column             Non-Null Count  Dtype  \n",
      "---  ------             --------------  -----  \n",
      " 0   Customer ID        7044 non-null   object \n",
      " 1   Gender             7044 non-null   object \n",
      " 2   Senior Citizen     7044 non-null   int64  \n",
      " 3   Partner            7044 non-null   object \n",
      " 4   Dependents         7044 non-null   object \n",
      " 5   tenure             7044 non-null   int64  \n",
      " 6   Phone Service      7044 non-null   object \n",
      " 7   Multiple Lines     7044 non-null   object \n",
      " 8   Internet Service   7044 non-null   object \n",
      " 9   Online Security    7044 non-null   object \n",
      " 10  Online Backup      7044 non-null   object \n",
      " 11  Device Protection  7044 non-null   object \n",
      " 12  Tech Support       7044 non-null   object \n",
      " 13  Streaming TV       7044 non-null   object \n",
      " 14  Streaming Movies   7044 non-null   object \n",
      " 15  Contract           7044 non-null   object \n",
      " 16  Paperless Billing  7044 non-null   object \n",
      " 17  Payment Method     7044 non-null   object \n",
      " 18  Monthly Charges    7044 non-null   float64\n",
      " 19  Total Charges      7044 non-null   object \n",
      " 20  Churn              7044 non-null   object \n",
      "dtypes: float64(1), int64(2), object(18)\n",
      "memory usage: 1.1+ MB\n"
     ]
    }
   ],
   "source": [
    "raw_data.info()"
   ]
  },
  {
   "cell_type": "code",
   "execution_count": 6,
   "id": "motivated-playlist",
   "metadata": {},
   "outputs": [],
   "source": [
    "df = raw_data.copy()"
   ]
  },
  {
   "cell_type": "markdown",
   "id": "falling-algebra",
   "metadata": {},
   "source": [
    "Data appreads to be in good condition. We have no null variables and the data type of each coloumn is correct.\n",
    "If we had null valuables we would have replaced the NaN with the median values."
   ]
  },
  {
   "cell_type": "markdown",
   "id": "guided-enclosure",
   "metadata": {},
   "source": [
    "# 3. Visulising Data"
   ]
  },
  {
   "cell_type": "markdown",
   "id": "contained-massachusetts",
   "metadata": {},
   "source": [
    "Out of curiosity, I would like to identiy any overt trend. Visualising data is the easitest way to coduct trend analysis "
   ]
  },
  {
   "cell_type": "code",
   "execution_count": 7,
   "id": "medieval-bunch",
   "metadata": {
    "scrolled": true
   },
   "outputs": [
    {
     "data": {
      "image/png": "[encoded data removed]",
      "text/plain": [
       "<Figure size 432x576 with 1 Axes>"
      ]
     },
     "metadata": {},
     "output_type": "display_data"
    }
   ],
   "source": [
    "plt.figure(figsize = (6,8))\n",
    "sns.violinplot(x=\"Contract\", y=\"Monthly Charges\" , data=df).set_title('Monthly Charges ViolinPlot')\n",
    "plt.show()"
   ]
  },
  {
   "cell_type": "markdown",
   "id": "gross-porcelain",
   "metadata": {},
   "source": [
    "Quite interesting to see. We can see for two-year contracts a significant amount data is skewed upon the lower boundary.\n",
    "This is confirmed by a lower mean for two-year contracts.\n",
    "This is likely due to long-term contract holders benefiting from long term deals as opposed to month-to-month contracts.\n"
   ]
  },
  {
   "cell_type": "markdown",
   "id": "amateur-bradford",
   "metadata": {},
   "source": [
    "# 4. Modelling"
   ]
  },
  {
   "cell_type": "markdown",
   "id": "bored-fiber",
   "metadata": {},
   "source": [
    "In this section we are getting the data ready for machine learning. \n",
    "This will involve us removing uncessary columns and creating a boolean for the target values"
   ]
  },
  {
   "cell_type": "markdown",
   "id": "olive-procurement",
   "metadata": {},
   "source": [
    "## Dropping Uncessary Coloumns"
   ]
  },
  {
   "cell_type": "code",
   "execution_count": 8,
   "id": "delayed-nicaragua",
   "metadata": {},
   "outputs": [
    {
     "data": {
      "text/html": [
       "<div>\n",
       "<style scoped>\n",
       "    .dataframe tbody tr th:only-of-type {\n",
       "        vertical-align: middle;\n",
       "    }\n",
       "\n",
       "    .dataframe tbody tr th {\n",
       "        vertical-align: top;\n",
       "    }\n",
       "\n",
       "    .dataframe thead th {\n",
       "        text-align: right;\n",
       "    }\n",
       "</style>\n",
       "<table border=\"1\" class=\"dataframe\">\n",
       "  <thead>\n",
       "    <tr style=\"text-align: right;\">\n",
       "      <th></th>\n",
       "      <th>Gender</th>\n",
       "      <th>Senior Citizen</th>\n",
       "      <th>Partner</th>\n",
       "      <th>Dependents</th>\n",
       "      <th>tenure</th>\n",
       "      <th>Phone Service</th>\n",
       "      <th>Multiple Lines</th>\n",
       "      <th>Internet Service</th>\n",
       "      <th>Online Security</th>\n",
       "      <th>Online Backup</th>\n",
       "      <th>Device Protection</th>\n",
       "      <th>Tech Support</th>\n",
       "      <th>Streaming TV</th>\n",
       "      <th>Streaming Movies</th>\n",
       "      <th>Contract</th>\n",
       "      <th>Paperless Billing</th>\n",
       "      <th>Payment Method</th>\n",
       "      <th>Monthly Charges</th>\n",
       "      <th>Total Charges</th>\n",
       "      <th>Churn</th>\n",
       "    </tr>\n",
       "  </thead>\n",
       "  <tbody>\n",
       "    <tr>\n",
       "      <th>0</th>\n",
       "      <td>Female</td>\n",
       "      <td>0</td>\n",
       "      <td>Yes</td>\n",
       "      <td>No</td>\n",
       "      <td>1</td>\n",
       "      <td>No</td>\n",
       "      <td>No phone service</td>\n",
       "      <td>DSL</td>\n",
       "      <td>No</td>\n",
       "      <td>Yes</td>\n",
       "      <td>No</td>\n",
       "      <td>No</td>\n",
       "      <td>No</td>\n",
       "      <td>No</td>\n",
       "      <td>Month-to-month</td>\n",
       "      <td>Yes</td>\n",
       "      <td>Electronic check</td>\n",
       "      <td>29.85</td>\n",
       "      <td>29.85</td>\n",
       "      <td>No</td>\n",
       "    </tr>\n",
       "    <tr>\n",
       "      <th>1</th>\n",
       "      <td>Female</td>\n",
       "      <td>0</td>\n",
       "      <td>Yes</td>\n",
       "      <td>No</td>\n",
       "      <td>1</td>\n",
       "      <td>No</td>\n",
       "      <td>No phone service</td>\n",
       "      <td>DSL</td>\n",
       "      <td>No</td>\n",
       "      <td>Yes</td>\n",
       "      <td>No</td>\n",
       "      <td>No</td>\n",
       "      <td>No</td>\n",
       "      <td>No</td>\n",
       "      <td>Month-to-month</td>\n",
       "      <td>Yes</td>\n",
       "      <td>Electronic check</td>\n",
       "      <td>29.85</td>\n",
       "      <td>29.85</td>\n",
       "      <td>No</td>\n",
       "    </tr>\n",
       "    <tr>\n",
       "      <th>2</th>\n",
       "      <td>Male</td>\n",
       "      <td>0</td>\n",
       "      <td>No</td>\n",
       "      <td>No</td>\n",
       "      <td>34</td>\n",
       "      <td>Yes</td>\n",
       "      <td>No</td>\n",
       "      <td>DSL</td>\n",
       "      <td>Yes</td>\n",
       "      <td>No</td>\n",
       "      <td>Yes</td>\n",
       "      <td>No</td>\n",
       "      <td>No</td>\n",
       "      <td>No</td>\n",
       "      <td>One year</td>\n",
       "      <td>No</td>\n",
       "      <td>Mailed check</td>\n",
       "      <td>56.95</td>\n",
       "      <td>1889.5</td>\n",
       "      <td>No</td>\n",
       "    </tr>\n",
       "    <tr>\n",
       "      <th>3</th>\n",
       "      <td>Male</td>\n",
       "      <td>0</td>\n",
       "      <td>No</td>\n",
       "      <td>No</td>\n",
       "      <td>2</td>\n",
       "      <td>Yes</td>\n",
       "      <td>No</td>\n",
       "      <td>DSL</td>\n",
       "      <td>Yes</td>\n",
       "      <td>Yes</td>\n",
       "      <td>No</td>\n",
       "      <td>No</td>\n",
       "      <td>No</td>\n",
       "      <td>No</td>\n",
       "      <td>Month-to-month</td>\n",
       "      <td>Yes</td>\n",
       "      <td>Mailed check</td>\n",
       "      <td>53.85</td>\n",
       "      <td>108.15</td>\n",
       "      <td>Yes</td>\n",
       "    </tr>\n",
       "    <tr>\n",
       "      <th>4</th>\n",
       "      <td>Male</td>\n",
       "      <td>0</td>\n",
       "      <td>No</td>\n",
       "      <td>No</td>\n",
       "      <td>45</td>\n",
       "      <td>No</td>\n",
       "      <td>No phone service</td>\n",
       "      <td>DSL</td>\n",
       "      <td>Yes</td>\n",
       "      <td>No</td>\n",
       "      <td>Yes</td>\n",
       "      <td>Yes</td>\n",
       "      <td>No</td>\n",
       "      <td>No</td>\n",
       "      <td>One year</td>\n",
       "      <td>No</td>\n",
       "      <td>Bank transfer (automatic)</td>\n",
       "      <td>42.30</td>\n",
       "      <td>1840.75</td>\n",
       "      <td>No</td>\n",
       "    </tr>\n",
       "  </tbody>\n",
       "</table>\n",
       "</div>"
      ],
      "text/plain": [
       "   Gender  Senior Citizen Partner Dependents  tenure Phone Service  \\\n",
       "0  Female               0     Yes         No       1            No   \n",
       "1  Female               0     Yes         No       1            No   \n",
       "2    Male               0      No         No      34           Yes   \n",
       "3    Male               0      No         No       2           Yes   \n",
       "4    Male               0      No         No      45            No   \n",
       "\n",
       "     Multiple Lines Internet Service Online Security Online Backup  \\\n",
       "0  No phone service              DSL              No           Yes   \n",
       "1  No phone service              DSL              No           Yes   \n",
       "2                No              DSL             Yes            No   \n",
       "3                No              DSL             Yes           Yes   \n",
       "4  No phone service              DSL             Yes            No   \n",
       "\n",
       "  Device Protection Tech Support Streaming TV Streaming Movies  \\\n",
       "0                No           No           No               No   \n",
       "1                No           No           No               No   \n",
       "2               Yes           No           No               No   \n",
       "3                No           No           No               No   \n",
       "4               Yes          Yes           No               No   \n",
       "\n",
       "         Contract Paperless Billing             Payment Method  \\\n",
       "0  Month-to-month               Yes           Electronic check   \n",
       "1  Month-to-month               Yes           Electronic check   \n",
       "2        One year                No               Mailed check   \n",
       "3  Month-to-month               Yes               Mailed check   \n",
       "4        One year                No  Bank transfer (automatic)   \n",
       "\n",
       "   Monthly Charges Total Charges Churn  \n",
       "0            29.85         29.85    No  \n",
       "1            29.85         29.85    No  \n",
       "2            56.95        1889.5    No  \n",
       "3            53.85        108.15   Yes  \n",
       "4            42.30       1840.75    No  "
      ]
     },
     "execution_count": 8,
     "metadata": {},
     "output_type": "execute_result"
    }
   ],
   "source": [
    "df = df.drop(['Customer ID'], axis=1)\n",
    "df.head()"
   ]
  },
  {
   "cell_type": "markdown",
   "id": "peripheral-celtic",
   "metadata": {},
   "source": [
    "## Creating Dummy Variables"
   ]
  },
  {
   "cell_type": "code",
   "execution_count": 9,
   "id": "interior-disney",
   "metadata": {
    "scrolled": true
   },
   "outputs": [
    {
     "data": {
      "text/html": [
       "<div>\n",
       "<style scoped>\n",
       "    .dataframe tbody tr th:only-of-type {\n",
       "        vertical-align: middle;\n",
       "    }\n",
       "\n",
       "    .dataframe tbody tr th {\n",
       "        vertical-align: top;\n",
       "    }\n",
       "\n",
       "    .dataframe thead th {\n",
       "        text-align: right;\n",
       "    }\n",
       "</style>\n",
       "<table border=\"1\" class=\"dataframe\">\n",
       "  <thead>\n",
       "    <tr style=\"text-align: right;\">\n",
       "      <th></th>\n",
       "      <th>Senior Citizen</th>\n",
       "      <th>tenure</th>\n",
       "      <th>Monthly Charges</th>\n",
       "      <th>Gender_Female</th>\n",
       "      <th>Gender_Male</th>\n",
       "      <th>Partner_No</th>\n",
       "      <th>Partner_Yes</th>\n",
       "      <th>Dependents_No</th>\n",
       "      <th>Dependents_Yes</th>\n",
       "      <th>Phone Service_No</th>\n",
       "      <th>...</th>\n",
       "      <th>Total Charges_996.85</th>\n",
       "      <th>Total Charges_996.95</th>\n",
       "      <th>Total Charges_997.65</th>\n",
       "      <th>Total Charges_997.75</th>\n",
       "      <th>Total Charges_998.1</th>\n",
       "      <th>Total Charges_999.45</th>\n",
       "      <th>Total Charges_999.8</th>\n",
       "      <th>Total Charges_999.9</th>\n",
       "      <th>Churn_No</th>\n",
       "      <th>Churn_Yes</th>\n",
       "    </tr>\n",
       "  </thead>\n",
       "  <tbody>\n",
       "    <tr>\n",
       "      <th>0</th>\n",
       "      <td>0</td>\n",
       "      <td>1</td>\n",
       "      <td>29.85</td>\n",
       "      <td>1</td>\n",
       "      <td>0</td>\n",
       "      <td>0</td>\n",
       "      <td>1</td>\n",
       "      <td>1</td>\n",
       "      <td>0</td>\n",
       "      <td>1</td>\n",
       "      <td>...</td>\n",
       "      <td>0</td>\n",
       "      <td>0</td>\n",
       "      <td>0</td>\n",
       "      <td>0</td>\n",
       "      <td>0</td>\n",
       "      <td>0</td>\n",
       "      <td>0</td>\n",
       "      <td>0</td>\n",
       "      <td>1</td>\n",
       "      <td>0</td>\n",
       "    </tr>\n",
       "    <tr>\n",
       "      <th>1</th>\n",
       "      <td>0</td>\n",
       "      <td>1</td>\n",
       "      <td>29.85</td>\n",
       "      <td>1</td>\n",
       "      <td>0</td>\n",
       "      <td>0</td>\n",
       "      <td>1</td>\n",
       "      <td>1</td>\n",
       "      <td>0</td>\n",
       "      <td>1</td>\n",
       "      <td>...</td>\n",
       "      <td>0</td>\n",
       "      <td>0</td>\n",
       "      <td>0</td>\n",
       "      <td>0</td>\n",
       "      <td>0</td>\n",
       "      <td>0</td>\n",
       "      <td>0</td>\n",
       "      <td>0</td>\n",
       "      <td>1</td>\n",
       "      <td>0</td>\n",
       "    </tr>\n",
       "    <tr>\n",
       "      <th>2</th>\n",
       "      <td>0</td>\n",
       "      <td>34</td>\n",
       "      <td>56.95</td>\n",
       "      <td>0</td>\n",
       "      <td>1</td>\n",
       "      <td>1</td>\n",
       "      <td>0</td>\n",
       "      <td>1</td>\n",
       "      <td>0</td>\n",
       "      <td>0</td>\n",
       "      <td>...</td>\n",
       "      <td>0</td>\n",
       "      <td>0</td>\n",
       "      <td>0</td>\n",
       "      <td>0</td>\n",
       "      <td>0</td>\n",
       "      <td>0</td>\n",
       "      <td>0</td>\n",
       "      <td>0</td>\n",
       "      <td>1</td>\n",
       "      <td>0</td>\n",
       "    </tr>\n",
       "    <tr>\n",
       "      <th>3</th>\n",
       "      <td>0</td>\n",
       "      <td>2</td>\n",
       "      <td>53.85</td>\n",
       "      <td>0</td>\n",
       "      <td>1</td>\n",
       "      <td>1</td>\n",
       "      <td>0</td>\n",
       "      <td>1</td>\n",
       "      <td>0</td>\n",
       "      <td>0</td>\n",
       "      <td>...</td>\n",
       "      <td>0</td>\n",
       "      <td>0</td>\n",
       "      <td>0</td>\n",
       "      <td>0</td>\n",
       "      <td>0</td>\n",
       "      <td>0</td>\n",
       "      <td>0</td>\n",
       "      <td>0</td>\n",
       "      <td>0</td>\n",
       "      <td>1</td>\n",
       "    </tr>\n",
       "    <tr>\n",
       "      <th>4</th>\n",
       "      <td>0</td>\n",
       "      <td>45</td>\n",
       "      <td>42.30</td>\n",
       "      <td>0</td>\n",
       "      <td>1</td>\n",
       "      <td>1</td>\n",
       "      <td>0</td>\n",
       "      <td>1</td>\n",
       "      <td>0</td>\n",
       "      <td>1</td>\n",
       "      <td>...</td>\n",
       "      <td>0</td>\n",
       "      <td>0</td>\n",
       "      <td>0</td>\n",
       "      <td>0</td>\n",
       "      <td>0</td>\n",
       "      <td>0</td>\n",
       "      <td>0</td>\n",
       "      <td>0</td>\n",
       "      <td>1</td>\n",
       "      <td>0</td>\n",
       "    </tr>\n",
       "  </tbody>\n",
       "</table>\n",
       "<p>5 rows × 6577 columns</p>\n",
       "</div>"
      ],
      "text/plain": [
       "   Senior Citizen  tenure  Monthly Charges  Gender_Female  Gender_Male  \\\n",
       "0               0       1            29.85              1            0   \n",
       "1               0       1            29.85              1            0   \n",
       "2               0      34            56.95              0            1   \n",
       "3               0       2            53.85              0            1   \n",
       "4               0      45            42.30              0            1   \n",
       "\n",
       "   Partner_No  Partner_Yes  Dependents_No  Dependents_Yes  Phone Service_No  \\\n",
       "0           0            1              1               0                 1   \n",
       "1           0            1              1               0                 1   \n",
       "2           1            0              1               0                 0   \n",
       "3           1            0              1               0                 0   \n",
       "4           1            0              1               0                 1   \n",
       "\n",
       "   ...  Total Charges_996.85  Total Charges_996.95  Total Charges_997.65  \\\n",
       "0  ...                     0                     0                     0   \n",
       "1  ...                     0                     0                     0   \n",
       "2  ...                     0                     0                     0   \n",
       "3  ...                     0                     0                     0   \n",
       "4  ...                     0                     0                     0   \n",
       "\n",
       "   Total Charges_997.75  Total Charges_998.1  Total Charges_999.45  \\\n",
       "0                     0                    0                     0   \n",
       "1                     0                    0                     0   \n",
       "2                     0                    0                     0   \n",
       "3                     0                    0                     0   \n",
       "4                     0                    0                     0   \n",
       "\n",
       "   Total Charges_999.8  Total Charges_999.9  Churn_No  Churn_Yes  \n",
       "0                    0                    0         1          0  \n",
       "1                    0                    0         1          0  \n",
       "2                    0                    0         1          0  \n",
       "3                    0                    0         0          1  \n",
       "4                    0                    0         1          0  \n",
       "\n",
       "[5 rows x 6577 columns]"
      ]
     },
     "execution_count": 9,
     "metadata": {},
     "output_type": "execute_result"
    }
   ],
   "source": [
    "x = pd.get_dummies(df)\n",
    "x.head()"
   ]
  },
  {
   "cell_type": "markdown",
   "id": "diverse-pension",
   "metadata": {},
   "source": [
    "## Create targets using the churn coloumn"
   ]
  },
  {
   "cell_type": "code",
   "execution_count": 10,
   "id": "pressing-structure",
   "metadata": {
    "scrolled": true
   },
   "outputs": [
    {
     "data": {
      "text/plain": [
       "0    0\n",
       "1    0\n",
       "2    0\n",
       "3    1\n",
       "4    0\n",
       "Name: Churn, dtype: int64"
      ]
     },
     "execution_count": 10,
     "metadata": {},
     "output_type": "execute_result"
    }
   ],
   "source": [
    "y = df['Churn'].apply(lambda x: 1 if x=='Yes' else 0)\n",
    "y.head()"
   ]
  },
  {
   "cell_type": "markdown",
   "id": "handy-uncertainty",
   "metadata": {},
   "source": [
    "We need to check the shape of our targets and inputs to ensure they are equal. This is important when dealing with matricies"
   ]
  },
  {
   "cell_type": "code",
   "execution_count": 11,
   "id": "expressed-hayes",
   "metadata": {},
   "outputs": [
    {
     "data": {
      "text/plain": [
       "True"
      ]
     },
     "execution_count": 11,
     "metadata": {},
     "output_type": "execute_result"
    }
   ],
   "source": [
    "x.shape[0] == y.shape[0]"
   ]
  },
  {
   "cell_type": "markdown",
   "id": "coupled-fleece",
   "metadata": {},
   "source": [
    "# 5. Import ML Dependencies"
   ]
  },
  {
   "cell_type": "code",
   "execution_count": 12,
   "id": "vocational-orbit",
   "metadata": {},
   "outputs": [],
   "source": [
    "import tensorflow as tf\n",
    "from sklearn.model_selection import train_test_split\n",
    "from sklearn.metrics import accuracy_score"
   ]
  },
  {
   "cell_type": "markdown",
   "id": "criminal-application",
   "metadata": {},
   "source": [
    "# 6. Model"
   ]
  },
  {
   "cell_type": "markdown",
   "id": "mental-swimming",
   "metadata": {},
   "source": [
    "Personally I prefer to keep my hyperparameters from the model so its easier to change and fine tune"
   ]
  },
  {
   "cell_type": "code",
   "execution_count": 13,
   "id": "handmade-husband",
   "metadata": {},
   "outputs": [],
   "source": [
    "x_train, x_test, y_train, y_test = train_test_split(x, y, train_size=.8)"
   ]
  },
  {
   "cell_type": "code",
   "execution_count": 14,
   "id": "sustained-rings",
   "metadata": {},
   "outputs": [],
   "source": [
    "tf.keras.backend.set_floatx('float64')"
   ]
  },
  {
   "cell_type": "code",
   "execution_count": 15,
   "id": "dominican-member",
   "metadata": {},
   "outputs": [
    {
     "name": "stdout",
     "output_type": "stream",
     "text": [
      "Epoch 1/40\n",
      "177/177 - 2s - loss: 0.5016 - accuracy: 0.7634\n",
      "Epoch 2/40\n",
      "177/177 - 2s - loss: 0.4777 - accuracy: 0.7791\n",
      "Epoch 3/40\n",
      "177/177 - 2s - loss: 0.4620 - accuracy: 0.7941\n",
      "Epoch 4/40\n",
      "177/177 - 1s - loss: 0.4589 - accuracy: 0.7950\n",
      "Epoch 5/40\n",
      "177/177 - 2s - loss: 0.4486 - accuracy: 0.7998\n",
      "Epoch 6/40\n",
      "177/177 - 2s - loss: 0.4511 - accuracy: 0.7979\n",
      "Epoch 7/40\n",
      "177/177 - 2s - loss: 0.4411 - accuracy: 0.8007\n",
      "Epoch 8/40\n",
      "177/177 - 1s - loss: 0.4371 - accuracy: 0.8011\n",
      "Epoch 9/40\n",
      "177/177 - 1s - loss: 0.4259 - accuracy: 0.8060\n",
      "Epoch 10/40\n",
      "177/177 - 1s - loss: 0.4281 - accuracy: 0.8018\n",
      "Epoch 11/40\n",
      "177/177 - 2s - loss: 0.4061 - accuracy: 0.8153\n",
      "Epoch 12/40\n",
      "177/177 - 2s - loss: 0.3886 - accuracy: 0.8295\n",
      "Epoch 13/40\n",
      "177/177 - 2s - loss: 0.4019 - accuracy: 0.8234\n",
      "Epoch 14/40\n",
      "177/177 - 2s - loss: 0.3888 - accuracy: 0.8254\n",
      "Epoch 15/40\n",
      "177/177 - 2s - loss: 0.3652 - accuracy: 0.8413\n",
      "Epoch 16/40\n",
      "177/177 - 1s - loss: 0.3676 - accuracy: 0.8358\n",
      "Epoch 17/40\n",
      "177/177 - 1s - loss: 0.3792 - accuracy: 0.8357\n",
      "Epoch 18/40\n",
      "177/177 - 1s - loss: 0.3749 - accuracy: 0.8408\n",
      "Epoch 19/40\n",
      "177/177 - 2s - loss: 0.3491 - accuracy: 0.8456\n",
      "Epoch 20/40\n",
      "177/177 - 2s - loss: 0.4433 - accuracy: 0.7844\n",
      "Epoch 21/40\n",
      "177/177 - 2s - loss: 0.4112 - accuracy: 0.8094\n",
      "Epoch 22/40\n",
      "177/177 - 1s - loss: 0.4076 - accuracy: 0.8179\n",
      "Epoch 23/40\n",
      "177/177 - 1s - loss: 0.4039 - accuracy: 0.8085\n",
      "Epoch 24/40\n",
      "177/177 - 1s - loss: 0.3944 - accuracy: 0.8170\n",
      "Epoch 25/40\n",
      "177/177 - 1s - loss: 0.3923 - accuracy: 0.8186\n",
      "Epoch 26/40\n",
      "177/177 - 2s - loss: 0.4093 - accuracy: 0.8138\n",
      "Epoch 27/40\n",
      "177/177 - 2s - loss: 0.3877 - accuracy: 0.8138\n",
      "Epoch 28/40\n",
      "177/177 - 2s - loss: 0.3737 - accuracy: 0.8286\n",
      "Epoch 29/40\n",
      "177/177 - 2s - loss: 0.3696 - accuracy: 0.8220\n",
      "Epoch 30/40\n",
      "177/177 - 2s - loss: 0.3542 - accuracy: 0.8312\n",
      "Epoch 31/40\n",
      "177/177 - 2s - loss: 0.3760 - accuracy: 0.8284\n",
      "Epoch 32/40\n",
      "177/177 - 2s - loss: 0.3744 - accuracy: 0.8266\n",
      "Epoch 33/40\n",
      "177/177 - 3s - loss: 0.3459 - accuracy: 0.8469\n",
      "Epoch 34/40\n",
      "177/177 - 2s - loss: 0.3548 - accuracy: 0.8394\n",
      "Epoch 35/40\n",
      "177/177 - 2s - loss: 0.3394 - accuracy: 0.8461\n",
      "Epoch 36/40\n",
      "177/177 - 2s - loss: 0.3462 - accuracy: 0.8445\n",
      "Epoch 37/40\n",
      "177/177 - 2s - loss: 0.3341 - accuracy: 0.8477\n",
      "Epoch 38/40\n",
      "177/177 - 2s - loss: 0.3788 - accuracy: 0.8380\n",
      "Epoch 39/40\n",
      "177/177 - 2s - loss: 0.3654 - accuracy: 0.8454\n",
      "Epoch 40/40\n",
      "177/177 - 2s - loss: 0.3632 - accuracy: 0.8413\n"
     ]
    },
    {
     "data": {
      "text/plain": [
       "<tensorflow.python.keras.callbacks.History at 0x20a9e9caa30>"
      ]
     },
     "execution_count": 15,
     "metadata": {},
     "output_type": "execute_result"
    }
   ],
   "source": [
    "input_size = 7 #input size is equal to the number of predictors\n",
    "output_size = 1 #Output size is one as our targets are either zero's and 1's\n",
    "hidden_layer_size = 50 \n",
    "\n",
    "\n",
    "model = tf.keras.Sequential([\n",
    "    tf.keras.layers.Dense(hidden_layer_size, activation='relu'), # 1st hidden layer\n",
    "    tf.keras.layers.Dense(hidden_layer_size, activation='relu'), # 2nd hidden layer\n",
    "    # the final layer is no different, we just make sure to activate it with sigmoid\n",
    "    # we use sigmoid to covert the output to a number betweeen 1 & 0\n",
    "    tf.keras.layers.Dense(output_size, activation='sigmoid') # output layer\n",
    "])\n",
    "    \n",
    "model.compile(optimizer = 'sgd', loss='binary_crossentropy', metrics= 'accuracy')\n",
    "\n",
    "batch_size = 32\n",
    "max_epochs = 40\n",
    "\n",
    "model.fit(x_train, y_train, \n",
    "          epochs = max_epochs, \n",
    "          batch_size = batch_size,\n",
    "          verbose = 2) "
   ]
  },
  {
   "cell_type": "markdown",
   "id": "becoming-flood",
   "metadata": {},
   "source": [
    "Ideally, we would like to see our loss reducing and our accuracy increasing with each epoch.\n",
    "We ought to be keep an eye on overfitting. \n",
    "Overfitting happens when a model learns the detail and noise in the training data to the extent that it negatively impacts the performance of the model on new data. \n",
    "In another example, I will demonstrate how to use callbacks and early stopping mechanism to avoid overfitting.\n"
   ]
  },
  {
   "cell_type": "markdown",
   "id": "virtual-liberal",
   "metadata": {},
   "source": [
    "# 7. Testing the Model"
   ]
  },
  {
   "cell_type": "code",
   "execution_count": 17,
   "id": "intelligent-excuse",
   "metadata": {
    "scrolled": false
   },
   "outputs": [
    {
     "name": "stdout",
     "output_type": "stream",
     "text": [
      "45/45 [==============================] - 0s 5ms/step - loss: 3.0252 - accuracy: 0.7055\n"
     ]
    }
   ],
   "source": [
    "test_loss, test_accuracy = model.evaluate(x_test, y_test)"
   ]
  },
  {
   "cell_type": "markdown",
   "id": "moral-lightweight",
   "metadata": {},
   "source": [
    "# 8. Saving the Model"
   ]
  },
  {
   "cell_type": "code",
   "execution_count": 18,
   "id": "changed-subdivision",
   "metadata": {},
   "outputs": [
    {
     "name": "stdout",
     "output_type": "stream",
     "text": [
      "WARNING:tensorflow:From C:\\Users\\folarin.akinsola\\Anaconda3\\envs\\py3-TF2.0\\lib\\site-packages\\tensorflow\\python\\training\\tracking\\tracking.py:111: Model.state_updates (from tensorflow.python.keras.engine.training) is deprecated and will be removed in a future version.\n",
      "Instructions for updating:\n",
      "This property should not be used in TensorFlow 2.0, as updates are applied automatically.\n",
      "WARNING:tensorflow:From C:\\Users\\folarin.akinsola\\Anaconda3\\envs\\py3-TF2.0\\lib\\site-packages\\tensorflow\\python\\training\\tracking\\tracking.py:111: Layer.updates (from tensorflow.python.keras.engine.base_layer) is deprecated and will be removed in a future version.\n",
      "Instructions for updating:\n",
      "This property should not be used in TensorFlow 2.0, as updates are applied automatically.\n",
      "INFO:tensorflow:Assets written to: churnmodel\\assets\n"
     ]
    }
   ],
   "source": [
    "model.save('churnmodel')"
   ]
  },
  {
   "cell_type": "markdown",
   "id": "demanding-divorce",
   "metadata": {},
   "source": [
    "# 8. Evaluation"
   ]
  },
  {
   "cell_type": "markdown",
   "id": "engaged-appliance",
   "metadata": {},
   "source": [
    "This is the end. There are several things that I would do differently. \n",
    "\n",
    "1. I spent too long breaking down some steps especially when creating my inputs and targets.\n",
    "2. I would have spent more time visualising the data to see if there were any trends.\n",
    "3. I would have played around with my hyperparameters to optimize my model.\n",
    "4. I would use a validation dataset to gain an unbiased estimate of my model. \n",
    "4. I would have found dirtier data :)  \n"
   ]
  }
 ],
 "metadata": {
  "kernelspec": {
   "display_name": "Python 3",
   "language": "python",
   "name": "python3"
  },
  "language_info": {
   "codemirror_mode": {
    "name": "ipython",
    "version": 3
   },
   "file_extension": ".py",
   "mimetype": "text/x-python",
   "name": "python",
   "nbconvert_exporter": "python",
   "pygments_lexer": "ipython3",
   "version": "3.8.5"
  }
 },
 "nbformat": 4,
 "nbformat_minor": 5
}
